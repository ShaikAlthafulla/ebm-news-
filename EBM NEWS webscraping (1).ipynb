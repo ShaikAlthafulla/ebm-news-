{
 "cells": [
  {
   "cell_type": "code",
   "execution_count": 11,
   "metadata": {},
   "outputs": [],
   "source": [
    "#import the all required libraries\n",
    "import selenium\n",
    "import pandas as pd\n",
    "from selenium import webdriver"
   ]
  },
  {
   "cell_type": "code",
   "execution_count": 12,
   "metadata": {},
   "outputs": [],
   "source": [
    "#lets first connect to the web driver\n",
    "driver = webdriver.Edge(executable_path = r\"C:\\Users\\Althaf\\Downloads\\msedgedriver.exe\")\n",
    "driver.get(\"https://www.ebmnews.com/\")"
   ]
  },
  {
   "cell_type": "code",
   "execution_count": 13,
   "metadata": {},
   "outputs": [],
   "source": [
    "# creating empty lists for scraping data\n",
    "Date=[]\n",
    "Author=[]\n",
    "Vertical=[] \n",
    "Headline=[]\n",
    "Description=[]"
   ]
  },
  {
   "cell_type": "code",
   "execution_count": 22,
   "metadata": {},
   "outputs": [
    {
     "data": {
      "text/plain": [
       "['Dec 26, 2020',\n",
       " 'Dec 26, 2020',\n",
       " 'Dec 26, 2020',\n",
       " 'Dec 26, 2020',\n",
       " 'Dec 26, 2020',\n",
       " 'Dec 26, 2020',\n",
       " 'Dec 25, 2020',\n",
       " 'Dec 25, 2020',\n",
       " 'Dec 24, 2020',\n",
       " 'Dec 24, 2020',\n",
       " 'Dec 24, 2020',\n",
       " 'Dec 26, 2020',\n",
       " 'Dec 25, 2020',\n",
       " 'Dec 25, 2020',\n",
       " 'Dec 25, 2020',\n",
       " 'Dec 26, 2020',\n",
       " 'Dec 24, 2020',\n",
       " 'Dec 23, 2020',\n",
       " 'Dec 18, 2020',\n",
       " 'Dec 26, 2020',\n",
       " 'Dec 26, 2020',\n",
       " 'Dec 26, 2020',\n",
       " 'Dec 26, 2020',\n",
       " 'Dec 26, 2020',\n",
       " 'Dec 26, 2020',\n",
       " 'Dec 25, 2020',\n",
       " 'Dec 25, 2020',\n",
       " 'Dec 24, 2020',\n",
       " 'Dec 24, 2020',\n",
       " 'Dec 24, 2020',\n",
       " 'Dec 26, 2020',\n",
       " 'Dec 25, 2020',\n",
       " 'Dec 25, 2020',\n",
       " 'Dec 25, 2020',\n",
       " 'Dec 26, 2020',\n",
       " 'Dec 24, 2020',\n",
       " 'Dec 23, 2020',\n",
       " 'Dec 18, 2020',\n",
       " 'Dec 26, 2020',\n",
       " 'Dec 26, 2020',\n",
       " 'Dec 26, 2020',\n",
       " 'Dec 26, 2020',\n",
       " 'Dec 25, 2020',\n",
       " 'Dec 26, 2020',\n",
       " 'Dec 26, 2020',\n",
       " 'Dec 26, 2020',\n",
       " 'Dec 25, 2020',\n",
       " 'Dec 25, 2020',\n",
       " 'Dec 26, 2020',\n",
       " 'Dec 26, 2020',\n",
       " 'Dec 26, 2020',\n",
       " 'Dec 25, 2020',\n",
       " 'Dec 25, 2020',\n",
       " 'Dec 26, 2020',\n",
       " 'Dec 26, 2020',\n",
       " 'Dec 25, 2020',\n",
       " 'Dec 25, 2020',\n",
       " 'Dec 24, 2020',\n",
       " '',\n",
       " '',\n",
       " '',\n",
       " '',\n",
       " '']"
      ]
     },
     "execution_count": 22,
     "metadata": {},
     "output_type": "execute_result"
    }
   ],
   "source": [
    "#scraping the Dates\n",
    "Dates=driver.find_elements_by_xpath(\"//span[@class='time']/time\")\n",
    "for i in Dates:\n",
    "    if i.text is None :\n",
    "        Date.append(\"--\") \n",
    "    else:\n",
    "        Date.append(i.text)   \n",
    "Date[:100]"
   ]
  },
  {
   "cell_type": "code",
   "execution_count": 23,
   "metadata": {},
   "outputs": [
    {
     "data": {
      "text/plain": [
       "['Reporter',\n",
       " 'Reporter',\n",
       " 'Reporter',\n",
       " 'Reporter',\n",
       " 'Reporter',\n",
       " 'Reporter',\n",
       " 'Reporter',\n",
       " 'Reporter',\n",
       " 'Reporter',\n",
       " 'Reporter',\n",
       " 'Reporter',\n",
       " 'Reporter',\n",
       " 'Reporter',\n",
       " 'Reporter',\n",
       " 'Reporter',\n",
       " 'Reporter',\n",
       " 'Reporter',\n",
       " 'Reporter']"
      ]
     },
     "execution_count": 23,
     "metadata": {},
     "output_type": "execute_result"
    }
   ],
   "source": [
    "#scraping the Authors\n",
    "Authors=driver.find_elements_by_xpath(\"//i[@class='post-author author']\")\n",
    "for i in Authors:\n",
    "    if i.text is None :\n",
    "        Author.append(\"--\") \n",
    "    else:\n",
    "        Author.append(i.text)\n",
    "    \n",
    "Author[:100]"
   ]
  },
  {
   "cell_type": "code",
   "execution_count": 24,
   "metadata": {},
   "outputs": [
    {
     "data": {
      "text/plain": [
       "['FEATURED',\n",
       " 'FEATURED',\n",
       " 'FEATURED',\n",
       " 'DELHI',\n",
       " 'FEATURED',\n",
       " 'FEATURED',\n",
       " 'WORLD',\n",
       " 'SPORTS',\n",
       " 'FEATURED',\n",
       " 'FEATURED',\n",
       " 'FEATURED',\n",
       " 'DELHI',\n",
       " 'FEATURED',\n",
       " 'FEATURED',\n",
       " 'WORLD',\n",
       " 'SPORTS']"
      ]
     },
     "execution_count": 24,
     "metadata": {},
     "output_type": "execute_result"
    }
   ],
   "source": [
    "#scraping the vertical\n",
    "Verticals=driver.find_elements_by_xpath(\"//div[@class='term-badges floated']\")\n",
    "for i in Verticals:\n",
    "    if i.text is None :\n",
    "        Vertical.append(\"--\") \n",
    "    else:\n",
    "         Vertical.append(i.text)\n",
    "    \n",
    "Vertical[:100]\n",
    "\n"
   ]
  },
  {
   "cell_type": "code",
   "execution_count": 25,
   "metadata": {},
   "outputs": [
    {
     "data": {
      "text/plain": [
       "['NGT extends term of oversight committee to monitor pollution…',\n",
       " 'COVID-19: 3 UK returnees test positive in UP, 30 who gave…',\n",
       " 'RBI shortlists four more start-ups in first cohort to push…',\n",
       " 'India to become 5th largest economy in 2025, 3rd largest by…',\n",
       " 'NGT extends term of oversight committee to monitor pollution…',\n",
       " 'Modi lashes out at Mamata govt for ‘stopping central…',\n",
       " 'Government ready for talks on facts and substance of farm…',\n",
       " 'Nothing but propaganda, say farmers on Centre’s…',\n",
       " 'Journalist killed in Rajasthan while defending colleague…',\n",
       " '19 more arrested for Palghar mob lynching, five minors…',\n",
       " 'Noida: Class 8 student dies after duo beat him up with…',\n",
       " 'CBI likely to file charge sheet in Hathras gangrape-murder…',\n",
       " 'UK COVID Strain Spreads: Japan Confirms First Cases Of New Variant',\n",
       " 'Italy’s coronavirus cases rise for fourth straight day',\n",
       " 'New COVID strain: One in 85 test positive for coronavirus in…',\n",
       " 'Air Canada flight compelled to reroute after Boeing 737 Max…',\n",
       " 'Turkish official says China’s CoronaVac vaccine 91.25%…',\n",
       " 'Best Chance For India To Bounce Back In Series By Batting First In…',\n",
       " 'Players, spectators to pay special tribute to Dean Jones at…',\n",
       " 'Former England cricketer Robin Jackman dies aged 75',\n",
       " 'Steve Smith seeks Melbourne dominance during Boxing Day Test',\n",
       " 'Tim Paine says he is under no pressure as batsman',\n",
       " 'Gauahar Khan-Zaid Darbar Look Breathtaking At Their Wedding…',\n",
       " 'Solo Brathuke So Better Full Movie Leaked Online For Free…',\n",
       " 'Bigg Boss Tamil 4: Aari Arjuna Is The New Captain Of The…',\n",
       " 'Rajinikanth Is Hospitalised In Hyderabad; Here Is The…',\n",
       " 'Shraddha Kapoor Exudes Sass In Classy Blue And Black Gown…',\n",
       " 'Kangana Ranaut Gets Furious As She Gets Slut-Shamed Over Her…',\n",
       " 'Why Does Hunger Cause Headache? Causes, Symptoms',\n",
       " 'MIMICS – CARROT VS EYES',\n",
       " 'Tim Paine asks everyone for Sydney sacrifice as Boxing Day…',\n",
       " 'From COVID-19 To Diabetes And From Anaemia To…',\n",
       " 'Effective Home Remedies To Restore The Sense Of Smell And…',\n",
       " 'RBI shortlists four more start-ups in first cohort to push…',\n",
       " 'India to become 5th largest economy in 2025, 3rd largest by…',\n",
       " 'Amazon warehouse vandalised in Mumbai, allegedly by MNS…',\n",
       " 'India challenges Vodafone arbitration ruling in Singapore…',\n",
       " 'FASTag to be mandatory for vehicles from January 1, says…',\n",
       " 'Samsung Galaxy Z Fold 3 Display Specs Emerge Online',\n",
       " 'Oppo Reno5 Pro 5G Gets BIS Certification; India Launch…',\n",
       " 'Samsung Galaxy A72 4G Appears On Geekbench Listing',\n",
       " 'KFC Gaming Console Announced With 4K Gaming: Kfconsole',\n",
       " 'Zoom Email Services Tipped To Launch In 2021',\n",
       " 'Tata Altroz Tubro-Petrol Variant In New Marina Blue Colour…',\n",
       " '2021 KTM RC 200 Spied For The First Time With New Design…',\n",
       " 'MG Hector Plus Seven-Seat Variant Details Leaked Ahead Of…',\n",
       " 'One Electric Kridin Motorcycle Deliveries Started In Two…',\n",
       " '2021 Suzuki GSX250R Unveiled Globally',\n",
       " 'NGT extends term of oversight committee to monitor pollution…',\n",
       " 'COVID-19: 3 UK returnees test positive in UP, 30 who gave…',\n",
       " 'RBI shortlists four more start-ups in first cohort to push…',\n",
       " 'India to become 5th largest economy in 2025, 3rd largest by…',\n",
       " 'NGT extends term of oversight committee to monitor pollution…',\n",
       " 'Modi lashes out at Mamata govt for ‘stopping central…',\n",
       " 'Government ready for talks on facts and substance of farm…',\n",
       " 'Nothing but propaganda, say farmers on Centre’s…',\n",
       " 'Journalist killed in Rajasthan while defending colleague…',\n",
       " '19 more arrested for Palghar mob lynching, five minors…',\n",
       " 'Noida: Class 8 student dies after duo beat him up with…',\n",
       " 'CBI likely to file charge sheet in Hathras gangrape-murder…',\n",
       " 'UK COVID Strain Spreads: Japan Confirms First Cases Of New Variant',\n",
       " 'Italy’s coronavirus cases rise for fourth straight day',\n",
       " 'New COVID strain: One in 85 test positive for coronavirus in…',\n",
       " 'Air Canada flight compelled to reroute after Boeing 737 Max…',\n",
       " 'Turkish official says China’s CoronaVac vaccine 91.25%…',\n",
       " 'Best Chance For India To Bounce Back In Series By Batting First In…',\n",
       " 'Players, spectators to pay special tribute to Dean Jones at…',\n",
       " 'Former England cricketer Robin Jackman dies aged 75',\n",
       " 'Steve Smith seeks Melbourne dominance during Boxing Day Test',\n",
       " 'Tim Paine says he is under no pressure as batsman',\n",
       " '',\n",
       " '',\n",
       " '',\n",
       " '',\n",
       " '',\n",
       " '',\n",
       " 'Why Does Hunger Cause Headache? Causes, Symptoms',\n",
       " 'MIMICS – CARROT VS EYES',\n",
       " 'Tim Paine asks everyone for Sydney sacrifice as Boxing Day…',\n",
       " 'From COVID-19 To Diabetes And From Anaemia To…',\n",
       " 'Effective Home Remedies To Restore The Sense Of Smell And…',\n",
       " 'RBI shortlists four more start-ups in first cohort to push…',\n",
       " 'India to become 5th largest economy in 2025, 3rd largest by…',\n",
       " 'Amazon warehouse vandalised in Mumbai, allegedly by MNS…',\n",
       " 'India challenges Vodafone arbitration ruling in Singapore…',\n",
       " 'FASTag to be mandatory for vehicles from January 1, says…',\n",
       " 'Samsung Galaxy Z Fold 3 Display Specs Emerge Online',\n",
       " 'Oppo Reno5 Pro 5G Gets BIS Certification; India Launch…',\n",
       " 'Samsung Galaxy A72 4G Appears On Geekbench Listing',\n",
       " 'KFC Gaming Console Announced With 4K Gaming: Kfconsole',\n",
       " 'Zoom Email Services Tipped To Launch In 2021',\n",
       " '',\n",
       " '',\n",
       " '',\n",
       " '',\n",
       " '']"
      ]
     },
     "execution_count": 25,
     "metadata": {},
     "output_type": "execute_result"
    }
   ],
   "source": [
    "#scraping the Headlines\n",
    "Headlines=driver.find_elements_by_xpath(\"//p[@class='title']\")\n",
    "for i in Headlines:\n",
    "    if i.text is None :\n",
    "        Headline.append(\"--\") \n",
    "    else:\n",
    "        Headline.append(i.text)\n",
    "    \n",
    "Headline[:100]"
   ]
  },
  {
   "cell_type": "code",
   "execution_count": 34,
   "metadata": {},
   "outputs": [
    {
     "data": {
      "text/plain": [
       "['LUCKNOW: While three returnees -- a couple and their child -- from the United Kingdom, who arrived in Meerut recently, tested positive for COVID-19, the Ghaziabad health authorities are grappling with the task of tracing 30 travellers who gave fake addresses. As per sources, all the three who had returned from London arrived in Meerut on…',\n",
       " 'SRINAGAR: An unidentified militant was killed while two soldiers were injured during an encounter between between…',\n",
       " 'CHANDIGARH: As the stalemate over the agri laws continues, farmers appear to be losing patience. A spate of…',\n",
       " 'NEW DELHI: Prime Minister Narendra Modi on Friday reiterated that the government is ready for talks with agitating…',\n",
       " 'MATHURA: A third plea has been filed in a Mathura court seeking removal of the Shahi Idgah mosque near the…',\n",
       " 'LUCKNOW: While three returnees -- a couple and their child -- from the United…',\n",
       " 'CHENNAI: Union Information Minister Prakash Javadekar on Friday asserted that there shall be no retrenchment following the…',\n",
       " 'BALLIA: Suheldev Bhartiya Samaj Party (SBSP) president Om Prakash Rajbhar has alleged that the ruling BJP was acting as the…',\n",
       " 'MATHURA: A third plea has been filed in a Mathura court seeking removal of the Shahi Idgah mosque near the birthplace of Lord…',\n",
       " 'LUCKNOW: The Uttar Pradesh Health Department is facing an uphill task of connecting to those who have recently returned from the…',\n",
       " 'RANCHI: In a fresh twist to the rape and kidnapping case against Jharkhand Chief Minister Hemant Soren, a video has gone viral on…',\n",
       " 'BHOPAL: While the farmers at Delhi borders have refused to budge from their demand of repealing the agri laws, about 900 km away,…',\n",
       " \"TOKYO: Japan's health ministry has confirmed the country's first cases of…\",\n",
       " \"Melbourne, Dec 25: Former Australia captain Mark Taylor reckons India's best…\",\n",
       " 'LUCKNOW: While three returnees -- a couple and their child -- from the United Kingdom, who arrived in Meerut recently, tested positive for COVID-19, the Ghaziabad health authorities are grappling with the task of tracing 30 travellers who gave fake addresses. As per sources, all the three who had returned from London arrived in Meerut on…',\n",
       " 'SRINAGAR: An unidentified militant was killed while two soldiers were injured during an encounter between between…',\n",
       " 'CHANDIGARH: As the stalemate over the agri laws continues, farmers appear to be losing patience. A spate of…',\n",
       " 'NEW DELHI: Prime Minister Narendra Modi on Friday reiterated that the government is ready for talks with agitating…',\n",
       " 'MATHURA: A third plea has been filed in a Mathura court seeking removal of the Shahi Idgah mosque near the…',\n",
       " 'LUCKNOW: While three returnees -- a couple and their child -- from the United…',\n",
       " 'CHENNAI: Union Information Minister Prakash Javadekar on Friday asserted that there shall be no retrenchment following the…',\n",
       " 'BALLIA: Suheldev Bhartiya Samaj Party (SBSP) president Om Prakash Rajbhar has alleged that the ruling BJP was acting as the…',\n",
       " 'MATHURA: A third plea has been filed in a Mathura court seeking removal of the Shahi Idgah mosque near the birthplace of Lord…',\n",
       " 'LUCKNOW: The Uttar Pradesh Health Department is facing an uphill task of connecting to those who have recently returned from the…',\n",
       " 'RANCHI: In a fresh twist to the rape and kidnapping case against Jharkhand Chief Minister Hemant Soren, a video has gone viral on…',\n",
       " 'BHOPAL: While the farmers at Delhi borders have refused to budge from their demand of repealing the agri laws, about 900 km away,…',\n",
       " \"TOKYO: Japan's health ministry has confirmed the country's first cases of…\",\n",
       " \"Melbourne, Dec 25: Former Australia captain Mark Taylor reckons India's best…\"]"
      ]
     },
     "execution_count": 34,
     "metadata": {},
     "output_type": "execute_result"
    }
   ],
   "source": [
    "#scraping the Description\n",
    "Descriptions=driver.find_elements_by_xpath(\"//div[@class='post-summary']\")\n",
    "for i in Descriptions:\n",
    "    if i.text is None :\n",
    "        Description.append(\"--\") \n",
    "    else:\n",
    "        Description.append(i.text)\n",
    "        \n",
    "Description[:100]\n"
   ]
  },
  {
   "cell_type": "code",
   "execution_count": 28,
   "metadata": {},
   "outputs": [
    {
     "name": "stdout",
     "output_type": "stream",
     "text": [
      "63\n",
      "18\n",
      "16\n",
      "96\n",
      "28\n"
     ]
    }
   ],
   "source": [
    "#printing the length of lists\n",
    "print(len(Date))\n",
    "print(len(Author))\n",
    "print(len(Vertical))\n",
    "print(len(Headline))\n",
    "print(len(Description))"
   ]
  },
  {
   "cell_type": "code",
   "execution_count": null,
   "metadata": {},
   "outputs": [],
   "source": [
    "#creating a dataframe\n",
    "df=pd.DataFrame({'Date':Date[:100],\n",
    "                'Author':Author[:100],\n",
    "                'Vertical':Vertical[:100],\n",
    "                'Headline':Headline[:100],\n",
    "                'Description':Description[:100]\n",
    "                })\n",
    "#printing dataframe\n",
    "print(df)"
   ]
  },
  {
   "cell_type": "code",
   "execution_count": null,
   "metadata": {},
   "outputs": [],
   "source": [
    "start_page=0\n",
    "end_page=0\n",
    "for page in range(start_page,end_page+1): \n",
    "    nxt_button=driver.find_element_by_xpath(\"//a[@rel='next']\")\n",
    "    \n",
    "    #creating empty lists\n",
    "    Date=[]\n",
    "    Author=[]\n",
    "    Vertical=[] \n",
    "    Headline=[]\n",
    "    Description=[]\n",
    "    \n",
    "\n",
    "    Dates=driver.find_elements_by_xpath(\"//span[@class='time']/time\")\n",
    "    for i in Dates:\n",
    "        Date.append(i.text) \n",
    "    Authors=driver.find_elements_by_xpath(\"//i[@class='post-author author']\")\n",
    "    for i in Authors:\n",
    "        Author.append(i.text)\n",
    "    Verticals=driver.find_elements_by_xpath(\"//div[@class='term-badges floated']\")\n",
    "    for i in Verticals:\n",
    "        Vertical.append(i.text)\n",
    "    Headlines=driver.find_elements_by_xpath(\"//p[@class='title']\")\n",
    "    for i in Headlines:\n",
    "         Headline.append(i.text)\n",
    "    Descriptions=driver.find_elements_by_xpath(\"//div[@class='post-summary']\")\n",
    "    for i in Descriptions:\n",
    "        Description.append(i.text)\n",
    "    #for scrapping the datas from next pages.\n",
    "    if nxt_button.text=='next':\n",
    "            nxt_button.click()\n",
    "            time.sleep(5)\n",
    "            \n",
    "    #creating a dataframe\n",
    "df=pd.DataFrame({'Date':Date,\n",
    "                'Author':Author,\n",
    "                'Vertical':Vertical,\n",
    "                'Headline':Headline,\n",
    "                'Description':Description\n",
    "                })\n",
    "\n",
    "df.to_csv('EBM News.csv')\n",
    "#printing dataframe\n",
    "print(df)"
   ]
  }
 ],
 "metadata": {
  "kernelspec": {
   "display_name": "Python 3",
   "language": "python",
   "name": "python3"
  },
  "language_info": {
   "codemirror_mode": {
    "name": "ipython",
    "version": 3
   },
   "file_extension": ".py",
   "mimetype": "text/x-python",
   "name": "python",
   "nbconvert_exporter": "python",
   "pygments_lexer": "ipython3",
   "version": "3.7.6"
  }
 },
 "nbformat": 4,
 "nbformat_minor": 4
}
